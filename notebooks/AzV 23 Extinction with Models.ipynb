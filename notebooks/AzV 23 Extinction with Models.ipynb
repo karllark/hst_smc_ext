{
 "cells": [
  {
   "cell_type": "code",
   "execution_count": 1,
   "id": "42b3cd42",
   "metadata": {},
   "outputs": [],
   "source": [
    "import glob\n",
    "\n",
    "import numpy as np\n",
    "import scipy.optimize as op\n",
    "\n",
    "import matplotlib.pyplot as plt\n",
    "import matplotlib as mpl\n",
    "\n",
    "import astropy.units as u\n",
    "\n",
    "import emcee\n",
    "\n",
    "from dust_extinction.averages import G03_SMCBar\n",
    "from dust_extinction.parameter_averages import F19\n",
    "\n",
    "from measure_extinction.stardata import StarData\n",
    "from measure_extinction.extdata import ExtData\n",
    "from measure_extinction.modeldata import ModelData\n",
    "from measure_extinction.utils.fit_model import FitInfo\n",
    "\n",
    "from measure_extinction.utils.helpers import get_full_starfile\n",
    "from measure_extinction.utils.fit_model import get_best_fit_params, get_percentile_params"
   ]
  },
  {
   "cell_type": "markdown",
   "id": "8f70bc32",
   "metadata": {},
   "source": [
    "Specify the location of the model and observed data"
   ]
  },
  {
   "cell_type": "code",
   "execution_count": 2,
   "id": "209117e4",
   "metadata": {},
   "outputs": [],
   "source": [
    "file_path = \"/home/kgordon/Python_git/extstar_data/\""
   ]
  },
  {
   "cell_type": "markdown",
   "id": "57beb89f",
   "metadata": {},
   "source": [
    "Define star specific parameters"
   ]
  },
  {
   "cell_type": "code",
   "execution_count": 3,
   "id": "4b7882b1",
   "metadata": {},
   "outputs": [],
   "source": [
    "starname = \"azv23\"\n",
    "fstarname = f\"{starname}.dat\"\n",
    "velocity = 0.0 # SMC radial velocity from NED\n",
    "relband = \"V\""
   ]
  },
  {
   "cell_type": "markdown",
   "id": "78b14321",
   "metadata": {},
   "source": [
    "Read in the star data"
   ]
  },
  {
   "cell_type": "code",
   "execution_count": 4,
   "id": "9fee49ab",
   "metadata": {},
   "outputs": [],
   "source": [
    "# get the observed reddened star data\n",
    "reddened_star = StarData(fstarname, path=f\"{file_path}/DAT_files/\")\n",
    "band_names = reddened_star.data[\"BAND\"].get_band_names()\n",
    "data_names = reddened_star.data.keys()"
   ]
  },
  {
   "cell_type": "markdown",
   "id": "6a54935d",
   "metadata": {},
   "source": [
    "Plot the spectrum"
   ]
  },
  {
   "cell_type": "code",
   "execution_count": 5,
   "id": "682f131f",
   "metadata": {},
   "outputs": [
    {
     "data": {
      "image/png": "[encoded data removed]",
      "text/plain": [
       "<Figure size 936x720 with 1 Axes>"
      ]
     },
     "metadata": {
      "needs_background": "light"
     },
     "output_type": "display_data"
    }
   ],
   "source": [
    "fig, ax = plt.subplots(figsize=(13, 10))\n",
    "reddened_star.plot(ax)\n",
    "ax.set_xscale(\"log\")\n",
    "ax.set_yscale(\"log\")"
   ]
  },
  {
   "cell_type": "markdown",
   "id": "5d47d4d3",
   "metadata": {},
   "source": [
    "Get the model data"
   ]
  },
  {
   "cell_type": "code",
   "execution_count": 6,
   "id": "70cdc247",
   "metadata": {},
   "outputs": [],
   "source": [
    "tlusty_models_fullpath = glob.glob(\"{}/Models/tlusty_*v10.dat\".format(file_path))\n",
    "# tlusty_models_fullpath = tlusty_models_fullpath[0:10]\n",
    "tlusty_models = [\n",
    "    tfile[tfile.rfind(\"/\") + 1 : len(tfile)] for tfile in tlusty_models_fullpath\n",
    "]\n",
    "\n",
    "# get the models with just the reddened star band data and spectra\n",
    "modinfo = ModelData(\n",
    "    tlusty_models,\n",
    "    path=\"{}/Models/\".format(file_path),\n",
    "    band_names=band_names,\n",
    "    spectra_names=data_names,\n",
    ")"
   ]
  },
  {
   "cell_type": "markdown",
   "id": "f975ea60",
   "metadata": {},
   "source": [
    "Setup the fit parameters"
   ]
  },
  {
   "cell_type": "code",
   "execution_count": 7,
   "id": "b4f5976c",
   "metadata": {},
   "outputs": [],
   "source": [
    "# parameter names\n",
    "pnames = [\"logT\",\"logg\",\"logZ\",\"Av\",\"Rv\",\"C2\",\"C3\",\"C4\",\"x0\",\"gamma\",\"HI_gal\",\"HI_mw\"]\n",
    "\n",
    "# initial starting position\n",
    "#  **customize for each star**\n",
    "# AzV23 sptype = B3Ia -> logTeff, logg\n",
    "# SMC metallicity -> 0.2 (1/5 solar)\n",
    "params = [4.25, 3.09, 0.2, 0.75, 3.7, 2.5, 0.65, 0.26, 4.66, 0.86, 22.0, 19.0]\n",
    "\n",
    "# min/max allowed values for each parameter\n",
    "# some are based on the min/max of the stellar atmosphere grid\n",
    "plimits = [\n",
    "        [modinfo.temps_min, modinfo.temps_max],  # log(Teff)\n",
    "        [modinfo.gravs_min, modinfo.gravs_max],  # log(g)\n",
    "        [modinfo.mets_min, modinfo.mets_max],    # log(Z)\n",
    "        [0.0, 4.0],   # Av\n",
    "        [2.0, 6.0],   # Rv\n",
    "        [-0.1, 5.0],  # C2\n",
    "        [0.0, 2.5],   # C3\n",
    "        [0.0, 1.0],   # C4\n",
    "        [4.5, 4.9],   # xo\n",
    "        [0.6, 1.5],   # gamma\n",
    "        [17.0, 24.0], # log(HI) internal to galaxy\n",
    "        [17.0, 22.0], # log(HI) MW foreground\n",
    "    ]\n",
    "\n",
    "# add Gaussian priors based on prior knowledge\n",
    "#  sptype -> log(Teff), log(g)\n",
    "#  galaxy metallicity -> log(Z)\n",
    "ppriors = {}\n",
    "ppriors[\"logT\"] = (4.25, 0.1)\n",
    "ppriors[\"logg\"] = (3.1, 0.1)\n",
    "ppriors[\"logZ\"] = (0.2, 0.1)"
   ]
  },
  {
   "cell_type": "markdown",
   "id": "58555afa",
   "metadata": {},
   "source": [
    "Create the weight arrays based on the observed uncertainties"
   ]
  },
  {
   "cell_type": "code",
   "execution_count": 17,
   "id": "add1c756",
   "metadata": {},
   "outputs": [],
   "source": [
    "# cropping info for weights\n",
    "#  bad regions are defined as those were we know the models do not work\n",
    "#  or the data is bad\n",
    "ex_regions = [\n",
    "    [8.23 - 0.1, 8.23 + 0.1],  # geocoronal line\n",
    "    [8.7, 10.0],  # bad data from STIS\n",
    "    [3.55, 3.6],\n",
    "    [3.80, 3.90],\n",
    "    [4.15, 4.3],\n",
    "    [6.4, 6.6],\n",
    "    [7.1, 7.3],\n",
    "    [7.45, 7.55],\n",
    "    [7.65, 7.75],\n",
    "    [7.9, 7.95],\n",
    "    [8.05, 8.1],\n",
    "] / u.micron\n",
    "\n",
    "weights = {}\n",
    "for cspec in data_names:\n",
    "    weights[cspec] = np.full(len(reddened_star.data[cspec].fluxes), 0.0)\n",
    "    gvals = reddened_star.data[cspec].npts > 0\n",
    "    weights[cspec][gvals] = 1.0 / reddened_star.data[cspec].uncs[gvals].value\n",
    "\n",
    "    x = 1.0 / reddened_star.data[cspec].waves\n",
    "    for cexreg in ex_regions:\n",
    "        weights[cspec][np.logical_and(x >= cexreg[0], x <= cexreg[1])] = 0.0\n",
    "\n",
    "# make the photometric bands have higher weight\n",
    "weights[\"BAND\"] *= 10000.0"
   ]
  },
  {
   "cell_type": "markdown",
   "id": "6bae6f15",
   "metadata": {},
   "source": [
    "Package the fit info needed.  FitInfo class defines the likelihood functions as well."
   ]
  },
  {
   "cell_type": "code",
   "execution_count": 18,
   "id": "f6aa29d7",
   "metadata": {},
   "outputs": [],
   "source": [
    "fitinfo = FitInfo(\n",
    "    pnames,\n",
    "    plimits,\n",
    "    weights,\n",
    "    parameter_priors=ppriors,\n",
    "    stellar_velocity=velocity,\n",
    ")"
   ]
  },
  {
   "cell_type": "code",
   "execution_count": 19,
   "id": "7932407d",
   "metadata": {},
   "outputs": [
    {
     "name": "stdout",
     "output_type": "stream",
     "text": [
      " final_simplex: (array([[ 4.30549585,  3.34737211,  0.18820525,  0.95256173,  3.17590364,\n",
      "         1.92510711,  0.2328036 ,  0.53735027,  4.76206598,  0.6366063 ,\n",
      "        21.84678314, 21.51185657],\n",
      "       [ 4.30549581,  3.34735917,  0.18820518,  0.95256645,  3.17593527,\n",
      "         1.9251082 ,  0.23281161,  0.5373461 ,  4.76208781,  0.63658976,\n",
      "        21.84686141, 21.51188626],\n",
      "       [ 4.30549584,  3.34739444,  0.18820523,  0.95256107,  3.17591121,\n",
      "         1.92508928,  0.23282303,  0.53734178,  4.76208193,  0.63658187,\n",
      "        21.84695244, 21.51184059],\n",
      "       [ 4.30549575,  3.34735773,  0.18820505,  0.95256306,  3.17592406,\n",
      "         1.92512786,  0.23280703,  0.53734866,  4.76208124,  0.63659828,\n",
      "        21.84672366, 21.51187619],\n",
      "       [ 4.30549574,  3.34738628,  0.18820503,  0.95255979,  3.17590382,\n",
      "         1.92512236,  0.23281061,  0.53734776,  4.76206875,  0.6365989 ,\n",
      "        21.84683944, 21.51179738],\n",
      "       [ 4.30549587,  3.34733874,  0.18820528,  0.95256992,  3.17594244,\n",
      "         1.92510596,  0.23280325,  0.53734926,  4.76208774,  0.63659754,\n",
      "        21.8468174 , 21.51193047],\n",
      "       [ 4.3054959 ,  3.34738361,  0.18820534,  0.95256074,  3.17590863,\n",
      "         1.92509617,  0.2328108 ,  0.5373467 ,  4.76206982,  0.63659647,\n",
      "        21.84684078, 21.51185125],\n",
      "       [ 4.30549562,  3.34740305,  0.1882048 ,  0.95255548,  3.17590067,\n",
      "         1.92511216,  0.23284192,  0.53733524,  4.7621041 ,  0.63656411,\n",
      "        21.84683794, 21.51185179],\n",
      "       [ 4.30549578,  3.34737411,  0.18820511,  0.95256324,  3.17591836,\n",
      "         1.92510913,  0.23281527,  0.53734521,  4.76208331,  0.63658981,\n",
      "        21.84686957, 21.51185509],\n",
      "       [ 4.30549583,  3.34735566,  0.18820522,  0.95256784,  3.1759391 ,\n",
      "         1.92510409,  0.23281175,  0.53734584,  4.76209024,  0.63658864,\n",
      "        21.84688554, 21.51189655],\n",
      "       [ 4.30549577,  3.34735481,  0.1882051 ,  0.95256712,  3.1759275 ,\n",
      "         1.92510675,  0.23281438,  0.53734553,  4.76209389,  0.63658877,\n",
      "        21.846858  , 21.51190756],\n",
      "       [ 4.30549589,  3.34736588,  0.18820532,  0.95256752,  3.17595184,\n",
      "         1.92511247,  0.23280321,  0.53734848,  4.76207304,  0.63659508,\n",
      "        21.84694779, 21.51181939],\n",
      "       [ 4.30549572,  3.34735092,  0.188205  ,  0.95256698,  3.17594616,\n",
      "         1.92512087,  0.23281808,  0.53734349,  4.76210307,  0.63658045,\n",
      "        21.84682478, 21.51190758]]), array([3.91795400e+16, 3.91795401e+16, 3.91795402e+16, 3.91795402e+16,\n",
      "       3.91795406e+16, 3.91795407e+16, 3.91795409e+16, 3.91795411e+16,\n",
      "       3.91795413e+16, 3.91795413e+16, 3.91795414e+16, 3.91795414e+16,\n",
      "       3.91795416e+16]))\n",
      "           fun: 3.9179540020481304e+16\n",
      "       message: 'Maximum number of function evaluations has been exceeded.'\n",
      "          nfev: 2400\n",
      "           nit: 1654\n",
      "        status: 1\n",
      "       success: False\n",
      "             x: array([ 4.30549585,  3.34737211,  0.18820525,  0.95256173,  3.17590364,\n",
      "        1.92510711,  0.2328036 ,  0.53735027,  4.76206598,  0.6366063 ,\n",
      "       21.84678314, 21.51185657])\n"
     ]
    }
   ],
   "source": [
    "# simple function to turn the log(likelihood) into the chisqr\n",
    "#  requied as op.minimize function searchs for the minimum chisqr (not max likelihood like MCMC algorithms)\n",
    "def nll(*args):\n",
    "    return -fitinfo.lnprob(*args)\n",
    "\n",
    "# run the fit\n",
    "result = op.minimize(\n",
    "    nll, params, method=\"Nelder-Mead\", args=(reddened_star, modinfo, fitinfo)\n",
    ")\n",
    "\n",
    "# check the fit output\n",
    "print(result)"
   ]
  },
  {
   "cell_type": "code",
   "execution_count": 20,
   "id": "e510ce95",
   "metadata": {},
   "outputs": [
    {
     "name": "stdout",
     "output_type": "stream",
     "text": [
      "4.3054958501769995 # logT\n",
      "3.347372111555364 # logg\n",
      "0.18820524861938737 # logZ\n",
      "0.9525617260895363 # Av\n",
      "3.175903642348196 # Rv\n",
      "1.925107114612584 # C2\n",
      "0.23280359686198648 # C3\n",
      "0.5373502689490872 # C4\n",
      "4.762065979633219 # x0\n",
      "0.6366062953021896 # gamma\n",
      "21.84678314211792 # HI_gal\n",
      "21.511856565846244 # HI_mw\n"
     ]
    }
   ],
   "source": [
    "# save results\n",
    "params = result[\"x\"]\n",
    "fit_params = params\n",
    "params_best = params\n",
    "pnames_extra = pnames\n",
    "\n",
    "# print the best fit\n",
    "for k, val in enumerate(params_best):\n",
    "    print(\"{} # {}\".format(val, pnames_extra[k]))\n"
   ]
  },
  {
   "cell_type": "markdown",
   "id": "7dc77980",
   "metadata": {},
   "source": [
    "Run emcee MCMC sampler to define uncertainties"
   ]
  },
  {
   "cell_type": "code",
   "execution_count": 21,
   "id": "46cd8bd5",
   "metadata": {},
   "outputs": [
    {
     "name": "stdout",
     "output_type": "stream",
     "text": [
      "best params\n",
      "[4.30543980e+00 3.20861229e+00 1.23449485e-01 9.84514027e-01\n",
      " 3.34308089e+00 1.90248953e+00 3.37242206e-01 7.05434509e-01\n",
      " 4.55097835e+00 6.00021491e-01 1.98174638e+01 2.18339863e+01\n",
      " 2.94493031e-01 6.67178305e+19 2.23043104e+20]\n",
      "percentile params\n",
      "4.305439801507875 4.30537085692371 0.00020561819875730691 0.0006281978948994293 # logT\n",
      "3.2086122903769563 3.213582161633963 0.11998732445937366 0.01373043972825494 # logg\n",
      "0.12344948513958567 0.12377662224587793 0.0018041597109575425 0.00029922489040457023 # logZ\n",
      "0.9845140269195743 0.9843876679736515 0.0007222437394720504 0.0003107755265018275 # Av\n",
      "3.3430808939215653 3.3438630689858275 0.0032875293862137944 0.0013270685422011042 # Rv\n",
      "1.9024895319105843 1.904724584149204 0.00732345772116072 0.001005475426132607 # C2\n",
      "0.337242206455896 0.3303806334789335 0.00443602818078187 0.015542880388563163 # C3\n",
      "0.7054345088214163 0.708213277129012 0.009021468195694604 0.005402548775059968 # C4\n",
      "4.550978353451744 4.552304107801811 0.0015485427780497218 0.010986850242607815 # x0\n",
      "0.6000214909868056 0.6001676066817998 0.0005695271071585184 0.00013675133195489853 # gamma\n",
      "19.817463823682658 19.823490166670364 0.05426552682737906 0.031485210303859645 # HI_gal\n",
      "21.833986251682337 21.838609833950656 0.004398854744323444 0.03560379158729887 # HI_mw\n",
      "0.29449303147573574 0.2944023657671109 0.00010253201051330096 4.805277377067929e-05 # E(B-V)\n",
      "6.6717830478466286e+19 6.766197159753546e+19 9.047837813075853e+18 4.737009024650453e+18 # N(HI)/A(V)\n",
      "2.2304310435645853e+20 2.262488318276247e+20 3.008489863462473e+19 1.5823432705461387e+19 # N(HI)/E(B-V)\n"
     ]
    }
   ],
   "source": [
    "p0 = params\n",
    "ndim = len(p0)\n",
    "\n",
    "#nwalkers = 2 * ndim\n",
    "#nsteps = 50\n",
    "#burn = 50\n",
    "\n",
    "nwalkers = 100\n",
    "nsteps = 500\n",
    "burn = 500\n",
    "\n",
    "# setting up the walkers to start \"near\" the inital guess\n",
    "p = [p0 * (1 + 0.01 * np.random.normal(0, 1.0, ndim)) for k in range(nwalkers)]\n",
    "\n",
    "# setup the sampler\n",
    "sampler = emcee.EnsembleSampler(\n",
    "    nwalkers, ndim, fitinfo.lnprob, args=(reddened_star, modinfo, fitinfo)\n",
    ")\n",
    "\n",
    "# burn in the walkers\n",
    "pos, prob, state = sampler.run_mcmc(p, burn)\n",
    "\n",
    "# rest the sampler\n",
    "sampler.reset()\n",
    "\n",
    "# do the full sampling\n",
    "pos, prob, state = sampler.run_mcmc(pos, nsteps, rstate0=state)\n",
    "\n",
    "# create the samples variable for later use\n",
    "samples = sampler.chain.reshape((-1, ndim))\n",
    "\n",
    "# get the best fit values\n",
    "pnames_extra = pnames + [\"E(B-V)\", \"N(HI)/A(V)\", \"N(HI)/E(B-V)\"]\n",
    "params_best = get_best_fit_params(sampler)\n",
    "fit_params = params_best\n",
    "print(\"best params\")\n",
    "print(params_best)\n",
    "\n",
    "# get the 16, 50, and 84 percentiles\n",
    "params_per = get_percentile_params(samples)\n",
    "print(\"percentile params\")\n",
    "\n",
    "# save the best fit and p50 +/- uncs values to a file\n",
    "# save as a single row table to provide a uniform format\n",
    "#f = open(out_basename + \"_fit_params.dat\", \"w\")\n",
    "#f.write(\"# best fit, p50, +unc, -unc\\n\")\n",
    "for k, val in enumerate(params_per):\n",
    "    print(\n",
    "        \"{} {} {} {} # {}\".format(\n",
    "            params_best[k], val[0], val[1], val[2], pnames_extra[k]\n",
    "        )\n",
    "    )\n",
    "#    f.write(\n",
    "#        \"{} {} {} {} # {}\\n\".format(\n",
    "#            params_best[k], val[0], val[1], val[2], pnames_extra[k]\n",
    "#        )\n",
    "#    )\n"
   ]
  },
  {
   "cell_type": "markdown",
   "id": "227e016a",
   "metadata": {},
   "source": [
    "Calculate and save the extinction curve"
   ]
  },
  {
   "cell_type": "code",
   "execution_count": 22,
   "id": "1fe42890",
   "metadata": {},
   "outputs": [
    {
     "name": "stdout",
     "output_type": "stream",
     "text": [
      "[6.00281028e+08 7.53714476e+08 5.82655523e+08 ... 6.98374749e+07\n",
      " 6.92956652e+07 6.84335169e+07] erg / (Angstrom cm2 s)\n"
     ]
    }
   ],
   "source": [
    "# intrinsic sed\n",
    "modsed = modinfo.stellar_sed(fit_params[0:3], velocity=velocity)\n",
    "\n",
    "# dust_extinguished sed\n",
    "ext_modsed = modinfo.dust_extinguished_sed(fit_params[3:10], modsed)\n",
    "\n",
    "# hi_abs sed\n",
    "hi_ext_modsed = modinfo.hi_abs_sed(\n",
    "    fit_params[10:12], [velocity, 0.0], ext_modsed\n",
    ")\n",
    "\n",
    "# create a StarData object for the best fit SED\n",
    "modsed_stardata = modinfo.SED_to_StarData(modsed)\n",
    "\n",
    "# create an extincion curve and save it\n",
    "extdata = ExtData()\n",
    "extdata.calc_elx(reddened_star, modsed_stardata, rel_band=relband)\n",
    "col_info = {\"av\": fit_params[3], \"rv\": fit_params[4]}\n",
    "extdata.save(starname + \"_ext.fits\", column_info=col_info)"
   ]
  },
  {
   "cell_type": "markdown",
   "id": "8b4e9527",
   "metadata": {},
   "source": [
    "Plot the extinction curve"
   ]
  },
  {
   "cell_type": "code",
   "execution_count": 24,
   "id": "58a5acae",
   "metadata": {},
   "outputs": [
    {
     "name": "stdout",
     "output_type": "stream",
     "text": [
      "False\n"
     ]
    },
    {
     "data": {
      "text/plain": [
       "[<matplotlib.lines.Line2D at 0x7fcd8c2c9190>]"
      ]
     },
     "execution_count": 24,
     "metadata": {},
     "output_type": "execute_result"
    },
    {
     "data": {
      "image/png": "[encoded data removed]",
      "text/plain": [
       "<Figure size 936x720 with 1 Axes>"
      ]
     },
     "metadata": {
      "needs_background": "light"
     },
     "output_type": "display_data"
    }
   ],
   "source": [
    "fig, ax = plt.subplots(figsize=(13, 10))\n",
    "\n",
    "# convert from E(l-V) to A(l)/A(V)\n",
    "print(extdata.type_rel_band != \"V\")\n",
    "extdata.columns[\"AV\"] = (params[3], 0.0)\n",
    "extdata.trans_elv_alav()\n",
    "\n",
    "extdata.plot(ax) #, alax=True)\n",
    "ax.set_xscale(\"log\")\n",
    "ax.set_xlabel(r\"$\\lambda$ [$\\mu m$]\", fontsize=1.3 * fontsize)\n",
    "ax.set_ylim(0.0, 10.0)\n",
    "ax.set_ylabel(r\"$A(\\lambda)/A(V)$\", fontsize=1.3 * fontsize)\n",
    "ax.tick_params(\"both\", length=10, width=2, which=\"major\")\n",
    "ax.tick_params(\"both\", length=5, width=1, which=\"minor\")\n",
    "\n",
    "# plot known exitnction curves\n",
    "mod_x = np.arange(0.3, 8.7, 0.1) / u.micron\n",
    "smcbar = G03_SMCBar()\n",
    "ax.plot(1.0 / mod_x, smcbar(mod_x), \"k:\")\n",
    "\n",
    "f19_rv31 = F19(Rv=3.1)\n",
    "ax.plot(1.0 / mod_x, f19_rv31(mod_x), \"k-\")"
   ]
  },
  {
   "cell_type": "markdown",
   "id": "606f144a",
   "metadata": {},
   "source": [
    "Run emcee MCMC sampler to define uncertainties (bonus section)"
   ]
  },
  {
   "cell_type": "code",
   "execution_count": null,
   "id": "de6d727a",
   "metadata": {},
   "outputs": [],
   "source": [
    "norm_model = np.average(hi_ext_modsed[\"BAND\"])\n",
    "norm_data = np.average(reddened_star.data[\"BAND\"].fluxes)\n",
    "\n",
    "# plotting setup for easier to read plots\n",
    "fontsize = 18\n",
    "font = {\"size\": fontsize}\n",
    "mpl.rc(\"font\", **font)\n",
    "mpl.rc(\"lines\", linewidth=1)\n",
    "mpl.rc(\"axes\", linewidth=2)\n",
    "mpl.rc(\"xtick.major\", width=2)\n",
    "mpl.rc(\"xtick.minor\", width=2)\n",
    "mpl.rc(\"ytick.major\", width=2)\n",
    "mpl.rc(\"ytick.minor\", width=2)\n",
    "\n",
    "# setup the plot\n",
    "fig, ax = plt.subplots(figsize=(13, 10))\n",
    "\n",
    "# plot the bands and all spectra for this star\n",
    "for cspec in modinfo.fluxes.keys():\n",
    "    if cspec == \"BAND\":\n",
    "        ptype = \"o\"\n",
    "    else:\n",
    "        ptype = \"-\"\n",
    "\n",
    "    # ax.plot(reddened_star.data[cspec].waves,\n",
    "    #        weights[cspec], 'k-')\n",
    "\n",
    "    ax.plot(\n",
    "        reddened_star.data[cspec].waves,\n",
    "        reddened_star.data[cspec].fluxes / norm_data,\n",
    "        \"k\" + ptype,\n",
    "        label=\"data\",\n",
    "    )\n",
    "\n",
    "    # print(reddened_star.data[cspec].waves)\n",
    "    # print(modinfo.waves[cspec])\n",
    "\n",
    "    ax.plot(\n",
    "        modinfo.waves[cspec], modsed[cspec] / norm_model, \"b\" + ptype, label=cspec\n",
    "    )\n",
    "    ax.plot(\n",
    "        modinfo.waves[cspec],\n",
    "        ext_modsed[cspec] / norm_model,\n",
    "        \"r\" + ptype,\n",
    "        label=cspec,\n",
    "    )\n",
    "    ax.plot(\n",
    "        modinfo.waves[cspec],\n",
    "        hi_ext_modsed[cspec] / norm_model,\n",
    "        \"g\" + ptype,\n",
    "        label=cspec,\n",
    "    )\n",
    "\n",
    "# finish configuring the plot\n",
    "ax.set_ylim(8e4 / norm_model, 2e9 / norm_model)\n",
    "ax.set_yscale(\"log\")\n",
    "ax.set_xscale(\"log\")\n",
    "ax.set_xlabel(r\"$\\lambda$ [$\\mu m$]\", fontsize=1.3 * fontsize)\n",
    "ax.set_ylabel(r\"$F(\\lambda)$ [$ergs\\ cm^{-2}\\ s\\ \\AA$]\", fontsize=1.3 * fontsize)\n",
    "ax.tick_params(\"both\", length=10, width=2, which=\"major\")\n",
    "ax.tick_params(\"both\", length=5, width=1, which=\"minor\")\n",
    "\n",
    "# ax.legend()\n",
    "\n",
    "# use the whitespace better\n",
    "fig.tight_layout()"
   ]
  }
 ],
 "metadata": {
  "kernelspec": {
   "display_name": "Python 3",
   "language": "python",
   "name": "python3"
  },
  "language_info": {
   "codemirror_mode": {
    "name": "ipython",
    "version": 3
   },
   "file_extension": ".py",
   "mimetype": "text/x-python",
   "name": "python",
   "nbconvert_exporter": "python",
   "pygments_lexer": "ipython3",
   "version": "3.8.5"
  }
 },
 "nbformat": 4,
 "nbformat_minor": 5
}
